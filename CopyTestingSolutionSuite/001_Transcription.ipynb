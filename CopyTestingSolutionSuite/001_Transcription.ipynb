{
 "cells": [
  {
   "cell_type": "markdown",
   "metadata": {
    "application/vnd.databricks.v1+cell": {
     "cellMetadata": {
      "byteLimit": 2048000,
      "rowLimit": 10000
     },
     "inputWidgets": {},
     "nuid": "44fd0d90-4205-4c4f-8b0a-9b92e833779c",
     "showTitle": false,
     "title": ""
    }
   },
   "source": [
    "### Dependency Setup"
   ]
  },
  {
   "cell_type": "code",
   "execution_count": 0,
   "metadata": {
    "application/vnd.databricks.v1+cell": {
     "cellMetadata": {
      "byteLimit": 2048000,
      "rowLimit": 10000
     },
     "collapsed": true,
     "inputWidgets": {},
     "nuid": "28a87e2e-6f67-43bf-8f93-213da35e4707",
     "showTitle": false,
     "title": ""
    }
   },
   "outputs": [
    {
     "output_type": "stream",
     "name": "stdout",
     "output_type": "stream",
     "text": [
      "\u001B[43mNote: you may need to restart the kernel using dbutils.library.restartPython() to use updated packages.\u001B[0m\nCollecting git+https://github.com/openai/whisper.git\n  Cloning https://github.com/openai/whisper.git to /tmp/pip-req-build-75a4dp1b\n  Running command git clone --filter=blob:none --quiet https://github.com/openai/whisper.git /tmp/pip-req-build-75a4dp1b\n  Resolved https://github.com/openai/whisper.git to commit e58f28804528831904c3b6f2c0e473f346223433\n  Installing build dependencies: started\n  Installing build dependencies: finished with status 'done'\n  Getting requirements to build wheel: started\n  Getting requirements to build wheel: finished with status 'done'\n  Preparing metadata (pyproject.toml): started\n  Preparing metadata (pyproject.toml): finished with status 'done'\nRequirement already satisfied: more-itertools in /usr/lib/python3/dist-packages (from openai-whisper==20231117) (8.10.0)\nRequirement already satisfied: numpy in /databricks/python3/lib/python3.10/site-packages (from openai-whisper==20231117) (1.23.5)\nRequirement already satisfied: torch in /databricks/python3/lib/python3.10/site-packages (from openai-whisper==20231117) (2.0.1+cpu)\nCollecting triton<3,>=2.0.0\n  Downloading triton-2.1.0-0-cp310-cp310-manylinux2014_x86_64.manylinux_2_17_x86_64.whl (89.2 MB)\n     ━━━━━━━━━━━━━━━━━━━━━━━━━━━━━━━━━━━━━━━━ 89.2/89.2 MB 10.3 MB/s eta 0:00:00\nRequirement already satisfied: tiktoken in /databricks/python3/lib/python3.10/site-packages (from openai-whisper==20231117) (0.5.1)\nRequirement already satisfied: numba in /databricks/python3/lib/python3.10/site-packages (from openai-whisper==20231117) (0.56.4)\nRequirement already satisfied: tqdm in /databricks/python3/lib/python3.10/site-packages (from openai-whisper==20231117) (4.64.1)\nRequirement already satisfied: filelock in /databricks/python3/lib/python3.10/site-packages (from triton<3,>=2.0.0->openai-whisper==20231117) (3.9.0)\nRequirement already satisfied: llvmlite<0.40,>=0.39.0dev0 in /databricks/python3/lib/python3.10/site-packages (from numba->openai-whisper==20231117) (0.39.1)\nRequirement already satisfied: setuptools in /databricks/python3/lib/python3.10/site-packages (from numba->openai-whisper==20231117) (65.6.3)\nRequirement already satisfied: regex>=2022.1.18 in /databricks/python3/lib/python3.10/site-packages (from tiktoken->openai-whisper==20231117) (2022.7.9)\nRequirement already satisfied: requests>=2.26.0 in /databricks/python3/lib/python3.10/site-packages (from tiktoken->openai-whisper==20231117) (2.28.1)\nRequirement already satisfied: typing-extensions in /databricks/python3/lib/python3.10/site-packages (from torch->openai-whisper==20231117) (4.4.0)\nRequirement already satisfied: jinja2 in /databricks/python3/lib/python3.10/site-packages (from torch->openai-whisper==20231117) (3.1.2)\nRequirement already satisfied: networkx in /databricks/python3/lib/python3.10/site-packages (from torch->openai-whisper==20231117) (2.8.4)\nRequirement already satisfied: sympy in /databricks/python3/lib/python3.10/site-packages (from torch->openai-whisper==20231117) (1.11.1)\nRequirement already satisfied: charset-normalizer<3,>=2 in /databricks/python3/lib/python3.10/site-packages (from requests>=2.26.0->tiktoken->openai-whisper==20231117) (2.0.4)\nRequirement already satisfied: urllib3<1.27,>=1.21.1 in /databricks/python3/lib/python3.10/site-packages (from requests>=2.26.0->tiktoken->openai-whisper==20231117) (1.26.14)\nRequirement already satisfied: idna<4,>=2.5 in /databricks/python3/lib/python3.10/site-packages (from requests>=2.26.0->tiktoken->openai-whisper==20231117) (3.4)\nRequirement already satisfied: certifi>=2017.4.17 in /databricks/python3/lib/python3.10/site-packages (from requests>=2.26.0->tiktoken->openai-whisper==20231117) (2022.12.7)\nRequirement already satisfied: MarkupSafe>=2.0 in /databricks/python3/lib/python3.10/site-packages (from jinja2->torch->openai-whisper==20231117) (2.1.1)\nRequirement already satisfied: mpmath>=0.19 in /databricks/python3/lib/python3.10/site-packages (from sympy->torch->openai-whisper==20231117) (1.2.1)\nBuilding wheels for collected packages: openai-whisper\n  Building wheel for openai-whisper (pyproject.toml): started\n  Building wheel for openai-whisper (pyproject.toml): finished with status 'done'\n  Created wheel for openai-whisper: filename=openai_whisper-20231117-py3-none-any.whl size=801359 sha256=5f1548f1d0e76a70033452ef0b2daf2b88749911b6c819b9dca50c5a05534741\n  Stored in directory: /tmp/pip-ephem-wheel-cache-9cod_99m/wheels/8b/6c/d0/622666868c179f156cf595c8b6f06f88bc5d80c4b31dccaa03\nSuccessfully built openai-whisper\nInstalling collected packages: triton, openai-whisper\nSuccessfully installed openai-whisper-20231117 triton-2.1.0\n\u001B[43mNote: you may need to restart the kernel using dbutils.library.restartPython() to use updated packages.\u001B[0m\n"
     ]
    }
   ],
   "source": [
    "!pip install git+https://github.com/openai/whisper.git"
   ]
  },
  {
   "cell_type": "code",
   "execution_count": 0,
   "metadata": {
    "application/vnd.databricks.v1+cell": {
     "cellMetadata": {
      "byteLimit": 2048000,
      "rowLimit": 10000
     },
     "inputWidgets": {},
     "nuid": "2357e5e0-3e2c-4371-b00d-d531154b0de6",
     "showTitle": false,
     "title": ""
    }
   },
   "outputs": [
    {
     "output_type": "stream",
     "name": "stderr",
     "output_type": "stream",
     "text": [
      "\r  0%|                                              | 0.00/2.88G [00:00<?, ?iB/s]\r  0%|▏                                     | 9.97M/2.88G [00:00<00:29, 104MiB/s]\r  1%|▎                                     | 22.2M/2.88G [00:00<00:25, 118MiB/s]\r  1%|▍                                     | 33.5M/2.88G [00:00<00:28, 105MiB/s]\r  2%|▌                                     | 47.8M/2.88G [00:00<00:24, 122MiB/s]\r  2%|▊                                     | 59.6M/2.88G [00:00<00:26, 116MiB/s]\r  2%|▉                                     | 71.4M/2.88G [00:00<00:25, 117MiB/s]\r  3%|█                                     | 82.7M/2.88G [00:00<00:27, 109MiB/s]\r  3%|█▏                                    | 96.4M/2.88G [00:00<00:25, 119MiB/s]\r  4%|█▍                                     | 108M/2.88G [00:01<00:27, 107MiB/s]\r  4%|█▌                                     | 120M/2.88G [00:01<00:26, 113MiB/s]\r  4%|█▋                                     | 131M/2.88G [00:01<00:27, 105MiB/s]\r  5%|█▉                                     | 142M/2.88G [00:01<00:26, 109MiB/s]\r  5%|██                                     | 153M/2.88G [00:01<00:27, 105MiB/s]\r  6%|██                                    | 163M/2.88G [00:01<00:29, 98.8MiB/s]\r  6%|██▎                                    | 176M/2.88G [00:01<00:26, 108MiB/s]\r  6%|██▍                                   | 186M/2.88G [00:01<00:30, 94.3MiB/s]\r  7%|██▋                                    | 198M/2.88G [00:01<00:28, 102MiB/s]\r  7%|██▊                                    | 209M/2.88G [00:02<00:27, 104MiB/s]\r  7%|██▉                                    | 219M/2.88G [00:02<00:28, 101MiB/s]\r  8%|██▉                                   | 229M/2.88G [00:02<00:28, 99.6MiB/s]\r  8%|███                                   | 238M/2.88G [00:02<00:29, 97.1MiB/s]\r  8%|███▏                                  | 248M/2.88G [00:02<00:30, 92.4MiB/s]\r  9%|███▎                                  | 257M/2.88G [00:02<00:34, 81.1MiB/s]\r  9%|███▍                                  | 268M/2.88G [00:02<00:31, 90.4MiB/s]\r 10%|███▋                                   | 280M/2.88G [00:02<00:27, 101MiB/s]\r 10%|███▊                                   | 290M/2.88G [00:02<00:27, 101MiB/s]\r 10%|████                                   | 303M/2.88G [00:03<00:25, 109MiB/s]\r 11%|████▏                                  | 314M/2.88G [00:03<00:27, 100MiB/s]\r 11%|████▏                                 | 324M/2.88G [00:03<00:31, 86.1MiB/s]\r 11%|████▎                                 | 334M/2.88G [00:03<00:29, 91.9MiB/s]\r 12%|████▍                                 | 343M/2.88G [00:03<00:29, 92.5MiB/s]\r 12%|████▌                                 | 352M/2.88G [00:03<00:29, 91.3MiB/s]\r 12%|████▋                                 | 361M/2.88G [00:03<00:30, 88.8MiB/s]\r 13%|████▊                                 | 373M/2.88G [00:03<00:27, 99.2MiB/s]\r 13%|█████                                  | 385M/2.88G [00:03<00:25, 105MiB/s]\r 13%|█████▏                                 | 395M/2.88G [00:04<00:26, 101MiB/s]\r 14%|█████▍                                 | 407M/2.88G [00:04<00:24, 107MiB/s]\r 14%|█████▍                                | 417M/2.88G [00:04<00:28, 93.6MiB/s]\r 15%|█████▌                                | 427M/2.88G [00:04<00:27, 96.9MiB/s]\r 15%|█████▊                                 | 440M/2.88G [00:04<00:24, 107MiB/s]\r 15%|█████▊                                | 451M/2.88G [00:04<00:28, 91.1MiB/s]\r 16%|██████▏                                | 464M/2.88G [00:04<00:25, 104MiB/s]\r 16%|██████▎                                | 475M/2.88G [00:04<00:25, 102MiB/s]\r 16%|██████▍                                | 485M/2.88G [00:05<00:24, 105MiB/s]\r 17%|██████▍                               | 496M/2.88G [00:05<00:26, 96.2MiB/s]\r 17%|██████▌                               | 505M/2.88G [00:05<00:26, 97.9MiB/s]\r 18%|██████▊                                | 518M/2.88G [00:05<00:23, 107MiB/s]\r 18%|██████▊                               | 528M/2.88G [00:05<00:26, 96.0MiB/s]\r 18%|██████▉                               | 538M/2.88G [00:05<00:25, 97.9MiB/s]\r 19%|███████▎                               | 551M/2.88G [00:05<00:23, 107MiB/s]\r 19%|███████▍                               | 561M/2.88G [00:05<00:23, 105MiB/s]\r 19%|███████▌                               | 572M/2.88G [00:05<00:22, 109MiB/s]\r 20%|███████▋                               | 583M/2.88G [00:06<00:22, 108MiB/s]\r 20%|███████▊                               | 593M/2.88G [00:06<00:23, 103MiB/s]\r 20%|███████▉                               | 603M/2.88G [00:06<00:23, 103MiB/s]\r 21%|████████                               | 613M/2.88G [00:06<00:23, 103MiB/s]\r 21%|████████                              | 623M/2.88G [00:06<00:25, 96.6MiB/s]\r 21%|████████▏                             | 632M/2.88G [00:06<00:26, 93.2MiB/s]\r 22%|████████▎                             | 642M/2.88G [00:06<00:25, 94.6MiB/s]\r 22%|████████▍                             | 651M/2.88G [00:06<00:26, 92.2MiB/s]\r 22%|████████▌                             | 660M/2.88G [00:06<00:29, 81.6MiB/s]\r 23%|████████▌                             | 668M/2.88G [00:07<00:31, 75.1MiB/s]\r 23%|████████▋                             | 677M/2.88G [00:07<00:29, 81.0MiB/s]\r 23%|████████▊                             | 685M/2.88G [00:07<00:28, 82.0MiB/s]\r 24%|████████▉                             | 693M/2.88G [00:07<00:28, 82.0MiB/s]\r 24%|█████████                             | 701M/2.88G [00:07<00:29, 81.0MiB/s]\r 24%|█████████▏                            | 709M/2.88G [00:07<00:30, 76.9MiB/s]\r 24%|█████████▏                            | 716M/2.88G [00:07<00:31, 74.2MiB/s]\r 25%|█████████▎                            | 724M/2.88G [00:07<00:32, 71.0MiB/s]\r 25%|█████████▍                            | 730M/2.88G [00:07<00:34, 67.4MiB/s]\r 25%|█████████▌                            | 739M/2.88G [00:08<00:31, 72.6MiB/s]\r 25%|█████████▋                            | 746M/2.88G [00:08<00:31, 73.2MiB/s]\r 26%|█████████▋                            | 753M/2.88G [00:08<00:33, 69.4MiB/s]\r 26%|█████████▊                            | 761M/2.88G [00:08<00:30, 74.1MiB/s]\r 26%|█████████▉                            | 771M/2.88G [00:08<00:27, 82.8MiB/s]\r 27%|██████████                            | 784M/2.88G [00:08<00:23, 97.4MiB/s]\r 27%|██████████▏                           | 793M/2.88G [00:08<00:25, 87.5MiB/s]\r 27%|██████████▎                           | 802M/2.88G [00:08<00:35, 63.8MiB/s]\r 28%|██████████▍                           | 812M/2.88G [00:09<00:30, 72.7MiB/s]\r 28%|██████████▋                           | 824M/2.88G [00:09<00:25, 85.6MiB/s]\r 28%|██████████▊                           | 833M/2.88G [00:09<00:25, 85.8MiB/s]\r 29%|██████████▉                           | 843M/2.88G [00:09<00:24, 89.7MiB/s]\r 29%|███████████▎                           | 856M/2.88G [00:09<00:21, 102MiB/s]\r 29%|███████████▏                          | 866M/2.88G [00:09<00:22, 98.2MiB/s]\r 30%|███████████▌                           | 877M/2.88G [00:09<00:21, 101MiB/s]\r 30%|███████████▊                           | 888M/2.88G [00:09<00:20, 106MiB/s]\r 31%|███████████▌                          | 898M/2.88G [00:09<00:23, 91.5MiB/s]\r 31%|███████████▋                          | 908M/2.88G [00:10<00:24, 88.5MiB/s]\r 31%|███████████▊                          | 916M/2.88G [00:10<00:25, 84.2MiB/s]\r 32%|███████████▉                          | 928M/2.88G [00:10<00:22, 94.2MiB/s]\r 32%|████████████                          | 937M/2.88G [00:10<00:23, 90.6MiB/s]\r 32%|████████████▏                         | 946M/2.88G [00:10<00:23, 89.2MiB/s]\r 33%|████████████▋                          | 959M/2.88G [00:10<00:20, 103MiB/s]\r 33%|████████████▊                          | 969M/2.88G [00:10<00:20, 101MiB/s]\r 33%|█████████████                          | 983M/2.88G [00:10<00:18, 112MiB/s]\r 34%|█████████████▏                         | 994M/2.88G [00:10<00:19, 104MiB/s]\r 34%|████████████▌                        | 0.98G/2.88G [00:11<00:20, 98.0MiB/s]\r 35%|█████████████                         | 0.99G/2.88G [00:11<00:18, 106MiB/s]\r 35%|█████████████▏                        | 1.00G/2.88G [00:11<00:19, 102MiB/s]\r 35%|█████████████▍                        | 1.02G/2.88G [00:11<00:17, 111MiB/s]\r 36%|█████████████▏                       | 1.03G/2.88G [00:11<00:20, 97.7MiB/s]\r 36%|█████████████▋                        | 1.04G/2.88G [00:11<00:18, 109MiB/s]\r 36%|█████████████▌                       | 1.05G/2.88G [00:11<00:19, 99.7MiB/s]\r 37%|██████████████                        | 1.06G/2.88G [00:11<00:17, 109MiB/s]\r 37%|██████████████▏                       | 1.07G/2.88G [00:12<00:18, 104MiB/s]\r 38%|██████████████▎                       | 1.08G/2.88G [00:12<00:18, 102MiB/s]\r 38%|██████████████▍                       | 1.09G/2.88G [00:12<00:18, 106MiB/s]\r 38%|██████████████▏                      | 1.10G/2.88G [00:12<00:24, 77.9MiB/s]\r 39%|██████████████▎                      | 1.11G/2.88G [00:12<00:34, 54.9MiB/s]\r 39%|██████████████▍                      | 1.12G/2.88G [00:12<00:35, 53.8MiB/s]\r 39%|██████████████▌                      | 1.13G/2.88G [00:13<00:30, 61.4MiB/s]\r 40%|██████████████▋                      | 1.14G/2.88G [00:13<00:25, 72.7MiB/s]\r 40%|██████████████▊                      | 1.15G/2.88G [00:13<00:24, 76.3MiB/s]\r 40%|██████████████▉                      | 1.16G/2.88G [00:13<00:22, 81.9MiB/s]\r 41%|██████████████▉                      | 1.16G/2.88G [00:13<00:31, 59.0MiB/s]\r 41%|███████████████                      | 1.17G/2.88G [00:13<00:28, 63.8MiB/s]\r 41%|███████████████▏                     | 1.18G/2.88G [00:13<00:27, 66.5MiB/s]\r 41%|███████████████▎                     | 1.19G/2.88G [00:13<00:26, 68.0MiB/s]\r 42%|███████████████▍                     | 1.20G/2.88G [00:13<00:23, 75.5MiB/s]\r 42%|███████████████▍                     | 1.20G/2.88G [00:14<00:28, 64.0MiB/s]\r 42%|███████████████▌                     | 1.21G/2.88G [00:14<00:27, 64.1MiB/s]\r 42%|███████████████▋                     | 1.22G/2.88G [00:14<00:24, 73.6MiB/s]\r 43%|███████████████▊                     | 1.23G/2.88G [00:14<00:23, 76.7MiB/s]\r 43%|███████████████▉                     | 1.24G/2.88G [00:14<00:21, 80.4MiB/s]\r 43%|████████████████                     | 1.24G/2.88G [00:14<00:21, 83.1MiB/s]\r 44%|████████████████▏                    | 1.25G/2.88G [00:14<00:19, 87.4MiB/s]\r 44%|████████████████▏                    | 1.26G/2.88G [00:14<00:20, 85.2MiB/s]\r 44%|████████████████▎                    | 1.27G/2.88G [00:15<00:22, 75.6MiB/s]\r 44%|████████████████▍                    | 1.28G/2.88G [00:15<00:21, 79.5MiB/s]\r 45%|████████████████▌                    | 1.29G/2.88G [00:15<00:20, 81.8MiB/s]\r 45%|████████████████▋                    | 1.29G/2.88G [00:15<00:21, 79.4MiB/s]\r 45%|████████████████▊                    | 1.30G/2.88G [00:15<00:19, 84.5MiB/s]\r 46%|████████████████▉                    | 1.31G/2.88G [00:15<00:18, 88.8MiB/s]\r 46%|█████████████████                    | 1.32G/2.88G [00:15<00:19, 86.0MiB/s]\r 46%|█████████████████                    | 1.33G/2.88G [00:15<00:21, 78.1MiB/s]\r 46%|█████████████████▏                   | 1.34G/2.88G [00:15<00:21, 75.9MiB/s]\r 47%|█████████████████▎                   | 1.34G/2.88G [00:16<00:23, 71.2MiB/s]\r 47%|█████████████████▍                   | 1.35G/2.88G [00:16<00:23, 69.7MiB/s]\r 47%|█████████████████▍                   | 1.36G/2.88G [00:16<00:22, 72.4MiB/s]\r 48%|█████████████████▌                   | 1.37G/2.88G [00:16<00:20, 78.6MiB/s]\r 48%|█████████████████▋                   | 1.38G/2.88G [00:16<00:20, 77.0MiB/s]\r 48%|█████████████████▊                   | 1.38G/2.88G [00:16<00:20, 77.6MiB/s]\r 48%|█████████████████▉                   | 1.39G/2.88G [00:16<00:19, 79.8MiB/s]\r 49%|██████████████████                   | 1.40G/2.88G [00:16<00:18, 84.0MiB/s]\r 49%|██████████████████                   | 1.41G/2.88G [00:16<00:18, 85.6MiB/s]\r 49%|██████████████████▏                  | 1.42G/2.88G [00:16<00:16, 93.7MiB/s]\r 50%|██████████████████▉                   | 1.43G/2.88G [00:17<00:15, 103MiB/s]\r 50%|██████████████████▌                  | 1.44G/2.88G [00:17<00:17, 90.6MiB/s]\r 50%|██████████████████▋                  | 1.45G/2.88G [00:17<00:16, 91.3MiB/s]\r 51%|██████████████████▊                  | 1.46G/2.88G [00:17<00:15, 99.8MiB/s]\r 51%|███████████████████▍                  | 1.47G/2.88G [00:17<00:14, 101MiB/s]\r 51%|███████████████████▌                  | 1.48G/2.88G [00:17<00:14, 101MiB/s]\r 52%|███████████████████▋                  | 1.49G/2.88G [00:17<00:13, 114MiB/s]\r 52%|███████████████████▊                  | 1.50G/2.88G [00:17<00:14, 105MiB/s]\r 53%|████████████████████                  | 1.51G/2.88G [00:17<00:13, 111MiB/s]\r 53%|████████████████████▏                 | 1.53G/2.88G [00:18<00:13, 105MiB/s]\r 53%|████████████████████▎                 | 1.54G/2.88G [00:18<00:13, 104MiB/s]\r 54%|███████████████████▉                 | 1.55G/2.88G [00:18<00:16, 88.8MiB/s]\r 54%|████████████████████                 | 1.56G/2.88G [00:18<00:14, 95.5MiB/s]\r 54%|████████████████████▏                | 1.57G/2.88G [00:18<00:14, 95.6MiB/s]\r 55%|████████████████████▎                | 1.57G/2.88G [00:18<00:14, 94.7MiB/s]\r 55%|████████████████████▉                 | 1.59G/2.88G [00:18<00:13, 102MiB/s]\r 55%|████████████████████▌                | 1.60G/2.88G [00:18<00:14, 96.5MiB/s]\r 56%|████████████████████▋                | 1.60G/2.88G [00:19<00:21, 64.5MiB/s]\r 56%|████████████████████▊                | 1.62G/2.88G [00:19<00:17, 75.4MiB/s]\r 56%|████████████████████▉                | 1.62G/2.88G [00:19<00:17, 77.5MiB/s]\r 57%|█████████████████████                | 1.63G/2.88G [00:19<00:21, 61.7MiB/s]\r 57%|█████████████████████                | 1.64G/2.88G [00:19<00:22, 57.8MiB/s]\r 57%|█████████████████████▏               | 1.65G/2.88G [00:19<00:19, 68.0MiB/s]\r 58%|█████████████████████▎               | 1.66G/2.88G [00:19<00:17, 74.6MiB/s]\r 58%|█████████████████████▍               | 1.67G/2.88G [00:20<00:15, 84.6MiB/s]\r 58%|█████████████████████▌               | 1.68G/2.88G [00:20<00:13, 93.8MiB/s]\r 59%|█████████████████████▋               | 1.69G/2.88G [00:20<00:14, 90.6MiB/s]\r 59%|█████████████████████▊               | 1.70G/2.88G [00:20<00:13, 90.6MiB/s]\r 59%|█████████████████████▉               | 1.71G/2.88G [00:20<00:13, 92.6MiB/s]\r 60%|██████████████████████▋               | 1.72G/2.88G [00:20<00:12, 100MiB/s]\r 60%|██████████████████████▏              | 1.73G/2.88G [00:20<00:12, 95.2MiB/s]\r 60%|██████████████████████▎              | 1.74G/2.88G [00:20<00:12, 95.7MiB/s]\r 61%|███████████████████████               | 1.75G/2.88G [00:20<00:12, 100MiB/s]\r 61%|███████████████████████▏              | 1.76G/2.88G [00:20<00:11, 104MiB/s]\r 61%|███████████████████████▎              | 1.77G/2.88G [00:21<00:11, 100MiB/s]\r 62%|███████████████████████▌              | 1.78G/2.88G [00:21<00:10, 111MiB/s]\r 62%|███████████████████████▋              | 1.79G/2.88G [00:21<00:11, 104MiB/s]\r 63%|███████████████████████▊              | 1.81G/2.88G [00:21<00:09, 116MiB/s]\r 63%|████████████████████████              | 1.82G/2.88G [00:21<00:09, 117MiB/s]\r 64%|████████████████████████▏             | 1.83G/2.88G [00:21<00:10, 104MiB/s]\r 64%|████████████████████████▎             | 1.84G/2.88G [00:21<00:10, 101MiB/s]\r 64%|████████████████████████▍             | 1.85G/2.88G [00:21<00:10, 109MiB/s]\r 65%|████████████████████████▌             | 1.86G/2.88G [00:21<00:09, 109MiB/s]\r 65%|████████████████████████             | 1.87G/2.88G [00:22<00:11, 94.9MiB/s]\r 65%|████████████████████████▏            | 1.88G/2.88G [00:22<00:10, 98.9MiB/s]\r 66%|████████████████████████▉             | 1.89G/2.88G [00:22<00:10, 104MiB/s]\r 66%|█████████████████████████▏            | 1.90G/2.88G [00:22<00:09, 106MiB/s]\r 66%|████████████████████████▌            | 1.91G/2.88G [00:22<00:10, 97.3MiB/s]\r 67%|█████████████████████████▍            | 1.92G/2.88G [00:22<00:10, 101MiB/s]\r 67%|█████████████████████████▌            | 1.93G/2.88G [00:22<00:09, 102MiB/s]\r 68%|█████████████████████████▋            | 1.95G/2.88G [00:22<00:08, 114MiB/s]\r 68%|█████████████████████████▏           | 1.96G/2.88G [00:23<00:10, 95.8MiB/s]\r 68%|██████████████████████████            | 1.97G/2.88G [00:23<00:09, 105MiB/s]\r 69%|█████████████████████████▍           | 1.98G/2.88G [00:23<00:10, 94.7MiB/s]\r 69%|█████████████████████████▌           | 1.99G/2.88G [00:23<00:10, 95.2MiB/s]\r 70%|██████████████████████████▍           | 2.00G/2.88G [00:23<00:09, 104MiB/s]\r 70%|██████████████████████████▌           | 2.01G/2.88G [00:23<00:08, 105MiB/s]\r 70%|██████████████████████████▋           | 2.02G/2.88G [00:23<00:07, 115MiB/s]\r 71%|██████████████████████████▉           | 2.03G/2.88G [00:23<00:08, 110MiB/s]\r 71%|███████████████████████████           | 2.05G/2.88G [00:23<00:07, 112MiB/s]\r 72%|███████████████████████████▏          | 2.06G/2.88G [00:24<00:08, 106MiB/s]\r 72%|███████████████████████████▎          | 2.07G/2.88G [00:24<00:08, 101MiB/s]\r 72%|███████████████████████████▍          | 2.08G/2.88G [00:24<00:07, 109MiB/s]\r 73%|██████████████████████████▊          | 2.09G/2.88G [00:24<00:08, 98.3MiB/s]\r 73%|███████████████████████████▊          | 2.10G/2.88G [00:24<00:07, 107MiB/s]\r 73%|███████████████████████████▏         | 2.11G/2.88G [00:24<00:09, 86.5MiB/s]\r 74%|███████████████████████████▎         | 2.12G/2.88G [00:24<00:10, 75.6MiB/s]\r 74%|███████████████████████████▍         | 2.13G/2.88G [00:24<00:10, 74.2MiB/s]\r 74%|███████████████████████████▍         | 2.13G/2.88G [00:25<00:12, 66.1MiB/s]\r 75%|███████████████████████████▌         | 2.15G/2.88G [00:25<00:10, 76.5MiB/s]\r 75%|███████████████████████████▋         | 2.15G/2.88G [00:25<00:09, 82.3MiB/s]\r 75%|███████████████████████████▊         | 2.16G/2.88G [00:25<00:08, 87.5MiB/s]\r 76%|███████████████████████████▉         | 2.17G/2.88G [00:25<00:10, 72.5MiB/s]\r 76%|████████████████████████████         | 2.18G/2.88G [00:25<00:09, 79.7MiB/s]\r 76%|████████████████████████████▏        | 2.19G/2.88G [00:25<00:08, 82.1MiB/s]\r 77%|████████████████████████████▎        | 2.20G/2.88G [00:25<00:08, 87.0MiB/s]\r 77%|████████████████████████████▍        | 2.21G/2.88G [00:26<00:08, 79.7MiB/s]\r 77%|████████████████████████████▌        | 2.22G/2.88G [00:26<00:08, 78.6MiB/s]\r 77%|████████████████████████████▋        | 2.23G/2.88G [00:26<00:07, 88.0MiB/s]\r 78%|████████████████████████████▊        | 2.24G/2.88G [00:26<00:07, 88.4MiB/s]\r 78%|████████████████████████████▉        | 2.25G/2.88G [00:26<00:06, 99.5MiB/s]\r 78%|█████████████████████████████        | 2.26G/2.88G [00:26<00:07, 85.5MiB/s]\r 79%|█████████████████████████████▏       | 2.27G/2.88G [00:26<00:07, 88.3MiB/s]\r 79%|█████████████████████████████▎       | 2.27G/2.88G [00:26<00:07, 86.9MiB/s]\r 79%|█████████████████████████████▍       | 2.29G/2.88G [00:26<00:06, 94.7MiB/s]\r 80%|█████████████████████████████▌       | 2.30G/2.88G [00:27<00:06, 99.9MiB/s]\r 80%|█████████████████████████████▋       | 2.31G/2.88G [00:27<00:06, 98.0MiB/s]\r 81%|██████████████████████████████▌       | 2.32G/2.88G [00:27<00:05, 101MiB/s]\r 81%|█████████████████████████████▉       | 2.33G/2.88G [00:27<00:08, 72.1MiB/s]\r 81%|██████████████████████████████       | 2.33G/2.88G [00:27<00:08, 65.5MiB/s]\r 81%|██████████████████████████████       | 2.34G/2.88G [00:27<00:08, 64.6MiB/s]\r 82%|██████████████████████████████▏      | 2.35G/2.88G [00:27<00:08, 65.3MiB/s]\r 82%|██████████████████████████████▎      | 2.36G/2.88G [00:27<00:07, 72.9MiB/s]\r 82%|██████████████████████████████▍      | 2.36G/2.88G [00:28<00:07, 70.6MiB/s]\r 83%|██████████████████████████████▌      | 2.37G/2.88G [00:28<00:06, 78.9MiB/s]\r 83%|██████████████████████████████▋      | 2.38G/2.88G [00:28<00:06, 79.4MiB/s]\r 83%|██████████████████████████████▋      | 2.39G/2.88G [00:28<00:06, 79.9MiB/s]\r 83%|██████████████████████████████▊      | 2.40G/2.88G [00:28<00:06, 81.4MiB/s]\r 84%|██████████████████████████████▉      | 2.41G/2.88G [00:28<00:05, 90.7MiB/s]\r 84%|███████████████████████████████      | 2.41G/2.88G [00:28<00:05, 86.1MiB/s]\r 84%|███████████████████████████████▏     | 2.42G/2.88G [00:28<00:05, 86.3MiB/s]\r 85%|███████████████████████████████▎     | 2.43G/2.88G [00:28<00:05, 87.9MiB/s]\r 85%|███████████████████████████████▍     | 2.44G/2.88G [00:29<00:04, 98.1MiB/s]\r 85%|████████████████████████████████▍     | 2.45G/2.88G [00:29<00:04, 101MiB/s]\r 86%|████████████████████████████████▌     | 2.46G/2.88G [00:29<00:04, 106MiB/s]\r 86%|████████████████████████████████▋     | 2.47G/2.88G [00:29<00:04, 107MiB/s]\r 86%|███████████████████████████████▉     | 2.48G/2.88G [00:29<00:04, 94.8MiB/s]\r 87%|████████████████████████████████     | 2.49G/2.88G [00:29<00:04, 91.6MiB/s]\r 87%|████████████████████████████████▏    | 2.50G/2.88G [00:29<00:04, 91.8MiB/s]\r 87%|█████████████████████████████████▏    | 2.52G/2.88G [00:29<00:03, 103MiB/s]\r 88%|████████████████████████████████▍    | 2.52G/2.88G [00:29<00:04, 85.9MiB/s]\r 88%|████████████████████████████████▌    | 2.53G/2.88G [00:30<00:04, 82.3MiB/s]\r 88%|████████████████████████████████▋    | 2.54G/2.88G [00:30<00:04, 75.9MiB/s]\r 89%|████████████████████████████████▊    | 2.55G/2.88G [00:30<00:04, 85.1MiB/s]\r 89%|████████████████████████████████▉    | 2.56G/2.88G [00:30<00:03, 93.2MiB/s]\r 89%|█████████████████████████████████    | 2.57G/2.88G [00:30<00:03, 91.0MiB/s]\r 90%|█████████████████████████████████▏   | 2.58G/2.88G [00:30<00:03, 83.5MiB/s]\r 90%|█████████████████████████████████▎   | 2.59G/2.88G [00:30<00:03, 93.9MiB/s]\r 90%|█████████████████████████████████▍   | 2.60G/2.88G [00:30<00:03, 96.2MiB/s]\r 91%|█████████████████████████████████▌   | 2.61G/2.88G [00:31<00:03, 78.3MiB/s]\r 91%|█████████████████████████████████▋   | 2.62G/2.88G [00:31<00:03, 78.0MiB/s]\r 91%|█████████████████████████████████▊   | 2.63G/2.88G [00:31<00:03, 75.0MiB/s]\r 92%|█████████████████████████████████▉   | 2.64G/2.88G [00:31<00:03, 79.4MiB/s]\r 92%|██████████████████████████████████   | 2.64G/2.88G [00:31<00:03, 79.3MiB/s]\r 92%|██████████████████████████████████▏  | 2.65G/2.88G [00:31<00:02, 84.6MiB/s]\r 93%|██████████████████████████████████▎  | 2.66G/2.88G [00:31<00:02, 96.5MiB/s]\r 93%|██████████████████████████████████▍  | 2.67G/2.88G [00:31<00:02, 83.8MiB/s]\r 93%|██████████████████████████████████▌  | 2.68G/2.88G [00:31<00:02, 84.5MiB/s]\r 94%|██████████████████████████████████▋  | 2.69G/2.88G [00:32<00:02, 93.2MiB/s]\r 94%|██████████████████████████████████▊  | 2.70G/2.88G [00:32<00:01, 98.6MiB/s]\r 94%|██████████████████████████████████▉  | 2.71G/2.88G [00:32<00:01, 93.9MiB/s]\r 95%|███████████████████████████████████▉  | 2.72G/2.88G [00:32<00:01, 101MiB/s]\r 95%|███████████████████████████████████▏ | 2.73G/2.88G [00:32<00:01, 99.8MiB/s]\r 95%|████████████████████████████████████▎ | 2.74G/2.88G [00:32<00:01, 100MiB/s]\r 96%|███████████████████████████████████▍ | 2.75G/2.88G [00:32<00:01, 93.8MiB/s]\r 96%|███████████████████████████████████▌ | 2.76G/2.88G [00:32<00:01, 97.6MiB/s]\r 96%|████████████████████████████████████▋ | 2.77G/2.88G [00:32<00:01, 105MiB/s]\r 97%|███████████████████████████████████▊ | 2.78G/2.88G [00:33<00:00, 98.4MiB/s]\r 97%|███████████████████████████████████▉ | 2.79G/2.88G [00:33<00:00, 91.6MiB/s]\r 97%|████████████████████████████████████ | 2.80G/2.88G [00:33<00:00, 94.2MiB/s]\r 98%|████████████████████████████████████▏| 2.81G/2.88G [00:33<00:00, 97.3MiB/s]\r 98%|████████████████████████████████████▎| 2.82G/2.88G [00:33<00:00, 86.4MiB/s]\r 98%|████████████████████████████████████▍| 2.83G/2.88G [00:33<00:00, 82.2MiB/s]\r 99%|████████████████████████████████████▌| 2.84G/2.88G [00:33<00:00, 94.3MiB/s]\r 99%|████████████████████████████████████▋| 2.85G/2.88G [00:33<00:00, 96.8MiB/s]\r 99%|████████████████████████████████████▊| 2.86G/2.88G [00:34<00:00, 77.1MiB/s]\r100%|████████████████████████████████████▉| 2.87G/2.88G [00:34<00:00, 77.6MiB/s]\r100%|█████████████████████████████████████| 2.88G/2.88G [00:34<00:00, 90.3MiB/s]\n"
     ]
    }
   ],
   "source": [
    "import re\n",
    "import json\n",
    "import openai\n",
    "import pandas as pd\n",
    "import soundfile as sf\n",
    "import whisper\n",
    "model = whisper.load_model(\"large\")"
   ]
  },
  {
   "cell_type": "markdown",
   "metadata": {
    "application/vnd.databricks.v1+cell": {
     "cellMetadata": {
      "byteLimit": 2048000,
      "rowLimit": 10000
     },
     "inputWidgets": {},
     "nuid": "5639eb71-1552-43e9-a38b-a67295d35360",
     "showTitle": false,
     "title": ""
    }
   },
   "source": [
    "### Getting necessary parameters"
   ]
  },
  {
   "cell_type": "code",
   "execution_count": 0,
   "metadata": {
    "application/vnd.databricks.v1+cell": {
     "cellMetadata": {
      "byteLimit": 2048000,
      "rowLimit": 10000
     },
     "inputWidgets": {},
     "nuid": "e387b7e1-ed32-4cf9-9659-bd8f8585f1fe",
     "showTitle": false,
     "title": ""
    }
   },
   "outputs": [
    {
     "output_type": "display_data",
     "data": {
      "text/plain": [
       "\u001B[0;31m---------------------------------------------------------------------------\u001B[0m\n",
       "\u001B[0;31mFileNotFoundError\u001B[0m                         Traceback (most recent call last)\n",
       "File \u001B[0;32m<command-4503195805848441>, line 1\u001B[0m\n",
       "\u001B[0;32m----> 1\u001B[0m \u001B[38;5;28;01mwith\u001B[39;00m \u001B[38;5;28;43mopen\u001B[39;49m\u001B[43m(\u001B[49m\u001B[38;5;124;43m'\u001B[39;49m\u001B[38;5;124;43mconfig.json\u001B[39;49m\u001B[38;5;124;43m'\u001B[39;49m\u001B[43m,\u001B[49m\u001B[43m \u001B[49m\u001B[38;5;124;43m'\u001B[39;49m\u001B[38;5;124;43mr\u001B[39;49m\u001B[38;5;124;43m'\u001B[39;49m\u001B[43m)\u001B[49m \u001B[38;5;28;01mas\u001B[39;00m json_file:\n",
       "\u001B[1;32m      2\u001B[0m     config \u001B[38;5;241m=\u001B[39m json\u001B[38;5;241m.\u001B[39mload(json_file)\n",
       "\n",
       "File \u001B[0;32m/databricks/python/lib/python3.10/site-packages/IPython/core/interactiveshell.py:284\u001B[0m, in \u001B[0;36m_modified_open\u001B[0;34m(file, *args, **kwargs)\u001B[0m\n",
       "\u001B[1;32m    277\u001B[0m \u001B[38;5;28;01mif\u001B[39;00m file \u001B[38;5;129;01min\u001B[39;00m {\u001B[38;5;241m0\u001B[39m, \u001B[38;5;241m1\u001B[39m, \u001B[38;5;241m2\u001B[39m}:\n",
       "\u001B[1;32m    278\u001B[0m     \u001B[38;5;28;01mraise\u001B[39;00m \u001B[38;5;167;01mValueError\u001B[39;00m(\n",
       "\u001B[1;32m    279\u001B[0m         \u001B[38;5;124mf\u001B[39m\u001B[38;5;124m\"\u001B[39m\u001B[38;5;124mIPython won\u001B[39m\u001B[38;5;124m'\u001B[39m\u001B[38;5;124mt let you open fd=\u001B[39m\u001B[38;5;132;01m{\u001B[39;00mfile\u001B[38;5;132;01m}\u001B[39;00m\u001B[38;5;124m by default \u001B[39m\u001B[38;5;124m\"\u001B[39m\n",
       "\u001B[1;32m    280\u001B[0m         \u001B[38;5;124m\"\u001B[39m\u001B[38;5;124mas it is likely to crash IPython. If you know what you are doing, \u001B[39m\u001B[38;5;124m\"\u001B[39m\n",
       "\u001B[1;32m    281\u001B[0m         \u001B[38;5;124m\"\u001B[39m\u001B[38;5;124myou can use builtins\u001B[39m\u001B[38;5;124m'\u001B[39m\u001B[38;5;124m open.\u001B[39m\u001B[38;5;124m\"\u001B[39m\n",
       "\u001B[1;32m    282\u001B[0m     )\n",
       "\u001B[0;32m--> 284\u001B[0m \u001B[38;5;28;01mreturn\u001B[39;00m \u001B[43mio_open\u001B[49m\u001B[43m(\u001B[49m\u001B[43mfile\u001B[49m\u001B[43m,\u001B[49m\u001B[43m \u001B[49m\u001B[38;5;241;43m*\u001B[39;49m\u001B[43margs\u001B[49m\u001B[43m,\u001B[49m\u001B[43m \u001B[49m\u001B[38;5;241;43m*\u001B[39;49m\u001B[38;5;241;43m*\u001B[39;49m\u001B[43mkwargs\u001B[49m\u001B[43m)\u001B[49m\n",
       "\n",
       "\u001B[0;31mFileNotFoundError\u001B[0m: [Errno 2] No such file or directory: 'config.json'"
      ]
     },
     "metadata": {
      "application/vnd.databricks.v1+output": {
       "arguments": {},
       "data": "\u001B[0;31m---------------------------------------------------------------------------\u001B[0m\n\u001B[0;31mFileNotFoundError\u001B[0m                         Traceback (most recent call last)\nFile \u001B[0;32m<command-4503195805848441>, line 1\u001B[0m\n\u001B[0;32m----> 1\u001B[0m \u001B[38;5;28;01mwith\u001B[39;00m \u001B[38;5;28;43mopen\u001B[39;49m\u001B[43m(\u001B[49m\u001B[38;5;124;43m'\u001B[39;49m\u001B[38;5;124;43mconfig.json\u001B[39;49m\u001B[38;5;124;43m'\u001B[39;49m\u001B[43m,\u001B[49m\u001B[43m \u001B[49m\u001B[38;5;124;43m'\u001B[39;49m\u001B[38;5;124;43mr\u001B[39;49m\u001B[38;5;124;43m'\u001B[39;49m\u001B[43m)\u001B[49m \u001B[38;5;28;01mas\u001B[39;00m json_file:\n\u001B[1;32m      2\u001B[0m     config \u001B[38;5;241m=\u001B[39m json\u001B[38;5;241m.\u001B[39mload(json_file)\n\nFile \u001B[0;32m/databricks/python/lib/python3.10/site-packages/IPython/core/interactiveshell.py:284\u001B[0m, in \u001B[0;36m_modified_open\u001B[0;34m(file, *args, **kwargs)\u001B[0m\n\u001B[1;32m    277\u001B[0m \u001B[38;5;28;01mif\u001B[39;00m file \u001B[38;5;129;01min\u001B[39;00m {\u001B[38;5;241m0\u001B[39m, \u001B[38;5;241m1\u001B[39m, \u001B[38;5;241m2\u001B[39m}:\n\u001B[1;32m    278\u001B[0m     \u001B[38;5;28;01mraise\u001B[39;00m \u001B[38;5;167;01mValueError\u001B[39;00m(\n\u001B[1;32m    279\u001B[0m         \u001B[38;5;124mf\u001B[39m\u001B[38;5;124m\"\u001B[39m\u001B[38;5;124mIPython won\u001B[39m\u001B[38;5;124m'\u001B[39m\u001B[38;5;124mt let you open fd=\u001B[39m\u001B[38;5;132;01m{\u001B[39;00mfile\u001B[38;5;132;01m}\u001B[39;00m\u001B[38;5;124m by default \u001B[39m\u001B[38;5;124m\"\u001B[39m\n\u001B[1;32m    280\u001B[0m         \u001B[38;5;124m\"\u001B[39m\u001B[38;5;124mas it is likely to crash IPython. If you know what you are doing, \u001B[39m\u001B[38;5;124m\"\u001B[39m\n\u001B[1;32m    281\u001B[0m         \u001B[38;5;124m\"\u001B[39m\u001B[38;5;124myou can use builtins\u001B[39m\u001B[38;5;124m'\u001B[39m\u001B[38;5;124m open.\u001B[39m\u001B[38;5;124m\"\u001B[39m\n\u001B[1;32m    282\u001B[0m     )\n\u001B[0;32m--> 284\u001B[0m \u001B[38;5;28;01mreturn\u001B[39;00m \u001B[43mio_open\u001B[49m\u001B[43m(\u001B[49m\u001B[43mfile\u001B[49m\u001B[43m,\u001B[49m\u001B[43m \u001B[49m\u001B[38;5;241;43m*\u001B[39;49m\u001B[43margs\u001B[49m\u001B[43m,\u001B[49m\u001B[43m \u001B[49m\u001B[38;5;241;43m*\u001B[39;49m\u001B[38;5;241;43m*\u001B[39;49m\u001B[43mkwargs\u001B[49m\u001B[43m)\u001B[49m\n\n\u001B[0;31mFileNotFoundError\u001B[0m: [Errno 2] No such file or directory: 'config.json'",
       "errorSummary": "<span class='ansi-red-fg'>FileNotFoundError</span>: [Errno 2] No such file or directory: 'config.json'",
       "errorTraceType": "ansi",
       "metadata": {},
       "type": "ipynbError"
      }
     },
     "output_type": "display_data"
    }
   ],
   "source": [
    "with open('config.json', 'r') as json_file:\n",
    "    config = json.load(json_file)"
   ]
  },
  {
   "cell_type": "markdown",
   "metadata": {
    "application/vnd.databricks.v1+cell": {
     "cellMetadata": {
      "byteLimit": 2048000,
      "rowLimit": 10000
     },
     "inputWidgets": {},
     "nuid": "e336c42c-096b-440f-870d-66a73460ab0d",
     "showTitle": false,
     "title": ""
    }
   },
   "source": [
    "### Helper Functions"
   ]
  },
  {
   "cell_type": "code",
   "execution_count": 0,
   "metadata": {
    "application/vnd.databricks.v1+cell": {
     "cellMetadata": {
      "byteLimit": 2048000,
      "rowLimit": 10000
     },
     "inputWidgets": {},
     "nuid": "af32590f-1207-498b-9398-1fcd9c2437e2",
     "showTitle": false,
     "title": ""
    }
   },
   "outputs": [],
   "source": [
    "def get_transcription(audiofile):\n",
    "    if audiofile[0:2] in ['na', 'uk']:\n",
    "        whisper_result = model.transcribe(audiofile, fp16 = False)\n",
    "        original = whisper_result[\"text\"]\n",
    "        english = whisper_result[\"text\"]\n",
    "    else:\n",
    "        whisper_result = model.transcribe(audiofile, fp16 = False)\n",
    "        original = whisper_result[\"text\"]\n",
    "        whisper_result = model.transcribe(audiofile, fp16 = False, task = 'translate')\n",
    "        english = whisper_result[\"text\"]\n",
    "    return {'original': original, 'english': english}\n",
    "\n",
    "\n",
    "def get_audio_duration(audiofile):\n",
    "    f = sf.SoundFile(audiofile)\n",
    "    audio_duration = int((f.frames / f.samplerate) // 1)\n",
    "    return audio_duration\n",
    "\n",
    "\n",
    "def get_llm_response(transcript):\n",
    "\n",
    "    conversation = [\n",
    "        {\"role\": \"system\", \"content\": \"You are a market expert who can identify the pros and cons of a product from a text.\"},\n",
    "        {\"role\": \"user\", \"content\": f\"\"\"Understand the following transcript and extract the following items \n",
    "                                        [brand, sub-brand, benefits, problems, product category].\n",
    "                                        When looking for benefits and problems, consider only those arising out of use of the product.  \n",
    "                                        Here is the text : {transcript}\n",
    "                                        Present only the results in a neat JSON format. Always use lists when representing the values.\n",
    "                                        Bargain detergents are competing products. So ignore the problems and benefits of competing products.\n",
    "                                        Take a deep breath. Let us solve this rationally.\n",
    "                                        \"\"\"}\n",
    "    ]\n",
    "\n",
    "    openai.api_key = config['api_key']\n",
    "    results = openai.Completion.create(\n",
    "        engine = config['model_name'],\n",
    "        max_tokens = 200\n",
    "    )\n",
    "\n",
    "    response = results['choices'][0]['text'].strip()\n",
    "\n",
    "    return response\n",
    "\n",
    "\n",
    "def type_correction(resp):\n",
    "    for value in ['brand', 'sub_brand', 'product_category', 'benefits', 'problems']:\n",
    "        x = resp[value]\n",
    "        if x:\n",
    "            if type(x) == str:\n",
    "                resp[value] = [x]\n",
    "        else:\n",
    "            resp[value] = ''\n",
    "\n",
    "    for value in ['benefits', 'problems']:\n",
    "        resp[f'{value}_count'] = len(resp[value])\n",
    "        resp[value] = ', '.join(resp[value])\n",
    "\n",
    "    return resp\n",
    "\n",
    "\n",
    "def wordcounter(text, word):\n",
    "    text = re.sub('[^A-Za-z0-9]', ' ', text)\n",
    "    text = re.sub('\\s+', ' ', text)\n",
    "    words_list = [x.strip() for x in text.split()]\n",
    "    return words_list.count(word)\n",
    "\n",
    "\n",
    "def brand_subbrand_correction():\n",
    "    for brand in corrected_llm_resp['brand']:\n",
    "        list_of_counts = []\n",
    "        count = wordcounter(whisper_response['english'], brand)\n",
    "        list_of_counts.append(count)\n",
    "        corrected_llm_resp[f'brand_count'] = list_of_counts\n",
    "\n",
    "    for sub_brand in corrected_llm_resp['sub_brand']:\n",
    "        list_of_counts = []\n",
    "        count = wordcounter(whisper_response['english'], sub_brand)\n",
    "        list_of_counts.append(count)\n",
    "        corrected_llm_resp[f'sub_brand_count'] = list_of_counts\n"
   ]
  },
  {
   "cell_type": "markdown",
   "metadata": {
    "application/vnd.databricks.v1+cell": {
     "cellMetadata": {
      "byteLimit": 2048000,
      "rowLimit": 10000
     },
     "inputWidgets": {},
     "nuid": "e45547f3-0bec-40a1-9955-bb8fe5eff678",
     "showTitle": false,
     "title": ""
    }
   },
   "source": [
    "### Driver"
   ]
  },
  {
   "cell_type": "code",
   "execution_count": 0,
   "metadata": {
    "application/vnd.databricks.v1+cell": {
     "cellMetadata": {
      "byteLimit": 2048000,
      "rowLimit": 10000
     },
     "inputWidgets": {},
     "nuid": "52b43793-1d98-4f7c-9050-56a1822356d9",
     "showTitle": false,
     "title": ""
    }
   },
   "outputs": [
    {
     "output_type": "stream",
     "name": "stdout",
     "output_type": "stream",
     "text": [
      "de_001.mp3\nph_001.mp3\nph_002.mp3\nph_003.mp3\nde_002.mp3\nde_003.mp3\nksa_002.mp3\nja_001.mp3\nksa_003.mp3\nna_002.mp3\nuk_001.mp3\nna_001.mp3\nuk_002.mp3\nuk_003.mp3\nja_002.mp3\nuk_004.mp3\nja_004.mp3\nuk_005.mp3\nja_003.mp3\nksa_001.mp3\n"
     ]
    }
   ],
   "source": [
    "files_list = ['de_001.mp3', 'ph_001.mp3', 'ph_002.mp3', 'ph_003.mp3', 'de_002.mp3', 'de_003.mp3', 'ksa_002.mp3', 'ja_001.mp3', 'ksa_003.mp3', \n",
    "              'na_002.mp3', 'uk_001.mp3', 'na_001.mp3', 'uk_002.mp3', 'uk_003.mp3', 'ja_002.mp3', 'uk_004.mp3', 'ja_004.mp3', 'uk_005.mp3', \n",
    "              'ja_003.mp3', 'ksa_001.mp3']\n",
    "\n",
    "all_responses = []\n",
    "\n",
    "for filename in files_list:\n",
    "    whisper_response = get_transcription(filename)\n",
    "\n",
    "    llm_response = get_llm_response(whisper_response['english'])\n",
    "    corrected_llm_resp = type_correction(llm_response)\n",
    "    brand_subbrand_correction()\n",
    "\n",
    "    corrected_llm_resp['original'] = whisper_response['original'].strip()\n",
    "    corrected_llm_resp['english'] = whisper_response['english'].strip()\n",
    "    corrected_llm_resp['duration'] = get_audio_duration(filename)\n",
    "    corrected_llm_resp['filename'] = filename\n",
    "    all_responses.append(corrected_llm_resp)\n",
    "    print(filename)\n",
    "    "
   ]
  },
  {
   "cell_type": "markdown",
   "metadata": {
    "application/vnd.databricks.v1+cell": {
     "cellMetadata": {
      "byteLimit": 2048000,
      "rowLimit": 10000
     },
     "inputWidgets": {},
     "nuid": "64bcf0da-617a-40db-9ddb-99f9d82b7844",
     "showTitle": false,
     "title": ""
    }
   },
   "source": [
    "### Export to CSV"
   ]
  },
  {
   "cell_type": "code",
   "execution_count": 0,
   "metadata": {
    "application/vnd.databricks.v1+cell": {
     "cellMetadata": {
      "byteLimit": 2048000,
      "rowLimit": 10000
     },
     "inputWidgets": {},
     "nuid": "f21a5155-336f-4db5-8f83-69542a007d9c",
     "showTitle": false,
     "title": ""
    }
   },
   "outputs": [],
   "source": [
    "df = pd.DataFrame()\n",
    "for resp in all_responses:\n",
    "    tdf = pd.DataFrame.from_records(resp, index = [0])\n",
    "    df = pd.concat([df, tdf], axis = 0, ignore_index = True)\n",
    "df.to_csv('transcript_extract.csv', index = False)"
   ]
  }
 ],
 "metadata": {
  "application/vnd.databricks.v1+notebook": {
   "dashboards": [],
   "language": "python",
   "notebookMetadata": {
    "pythonIndentUnit": 4
   },
   "notebookName": "CopyTranscriptionDryRun00",
   "widgets": {}
  }
 },
 "nbformat": 4,
 "nbformat_minor": 0
}
